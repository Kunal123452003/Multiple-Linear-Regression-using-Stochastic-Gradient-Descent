{
 "cells": [
  {
   "cell_type": "code",
   "execution_count": 2,
   "id": "e57634f7-299b-4168-8048-fc39fe9c22ec",
   "metadata": {},
   "outputs": [],
   "source": [
    "import numpy as np\n",
    "from sklearn.datasets import load_diabetes"
   ]
  },
  {
   "cell_type": "code",
   "execution_count": 3,
   "id": "c87162f8-05b8-43fc-946b-b88fd11d8f03",
   "metadata": {},
   "outputs": [],
   "source": [
    "X,y = load_diabetes(return_X_y = True)"
   ]
  },
  {
   "cell_type": "code",
   "execution_count": 4,
   "id": "4d83a02c-c63e-4308-bed8-d14e01dace7d",
   "metadata": {},
   "outputs": [
    {
     "data": {
      "text/plain": [
       "(442, 10)"
      ]
     },
     "execution_count": 4,
     "metadata": {},
     "output_type": "execute_result"
    }
   ],
   "source": [
    "X.shape"
   ]
  },
  {
   "cell_type": "code",
   "execution_count": 5,
   "id": "8416a318-434d-4ffd-87f2-1defeea296b3",
   "metadata": {},
   "outputs": [],
   "source": [
    "class Mul_LR:\n",
    "    def __init__(self,learning_rate=0.01,epoch=20,intercept=-120):\n",
    "        self.learning_rate = learning_rate\n",
    "        self.epoch = epoch\n",
    "        self.intercept = intercept\n",
    "\n",
    "    def fit(self,X,y):\n",
    "        self.coef_ = np.ones(X.shape[1])\n",
    "\n",
    "        for i in range(self.epoch):\n",
    "            for j in range(X.shape[0]):\n",
    "                index = np.random.randint(0,X.shape[0])\n",
    "                y_hat = self.intercept + np.dot(X[index],self.coef_)\n",
    "                intercept_slope = -2*(y[index]-y_hat[index])\n",
    "                self.intercept = self.intercept - (self.learning_rate*intercept_slope)\n",
    "\n",
    "                ceof_slope = "
   ]
  },
  {
   "cell_type": "code",
   "execution_count": null,
   "id": "3f5a47bf-41cc-418e-9fce-6e308d160a7d",
   "metadata": {},
   "outputs": [],
   "source": []
  }
 ],
 "metadata": {
  "kernelspec": {
   "display_name": "Python 3 (ipykernel)",
   "language": "python",
   "name": "python3"
  },
  "language_info": {
   "codemirror_mode": {
    "name": "ipython",
    "version": 3
   },
   "file_extension": ".py",
   "mimetype": "text/x-python",
   "name": "python",
   "nbconvert_exporter": "python",
   "pygments_lexer": "ipython3",
   "version": "3.12.3"
  }
 },
 "nbformat": 4,
 "nbformat_minor": 5
}
